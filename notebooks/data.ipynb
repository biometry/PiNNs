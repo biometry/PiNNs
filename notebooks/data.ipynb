{
 "cells": [
  {
   "cell_type": "markdown",
   "metadata": {},
   "source": [
    "# Profound Data "
   ]
  },
  {
   "cell_type": "markdown",
   "metadata": {},
   "source": [
    "- data imported via: https://github.com/COST-FP1304-PROFOUND\n",
    "- get structure via: https://cran.r-project.org/web/packages/ProfoundData/vignettes/PROFOUNDdatabase.html"
   ]
  },
  {
   "cell_type": "code",
   "execution_count": 29,
   "metadata": {},
   "outputs": [],
   "source": [
    "import sqlite3\n",
    "import pandas as pd\n",
    "import matplotlib.pyplot as plt\n",
    "import numpy as np\n",
    "from math import e, log"
   ]
  },
  {
   "cell_type": "markdown",
   "metadata": {},
   "source": [
    "for running PRELES the following Data is needed:\n",
    "- PAR: daily sums of photosynthetically active radiation [mmol/m2]\n",
    "          - CLIMATE: rad_Jcm2day (total daily global radiation)\n",
    "\n",
    "\n",
    "- TAir: mean temperature daily [°C]\n",
    "          - Climate_Local: tmean_degC [daily mean]\n",
    "\n",
    "- VPD: mean vapour pressure deficits of the day\n",
    "          - Meteorological: vpdF_hPa [half-hourly]\n",
    "          \n",
    "- Precip: precipitation above canopy\n",
    "          - Meteorological: p_mm [haf hourly]\n",
    "          - Climate: p_mm [total daily in mm]\n",
    "\n",
    "- CO2: of air [ppm]\n",
    "          - CO2_ISIMIP: co2_ppm\n",
    "\n",
    "- fAPAR: fraction of absorbed photosynthetic radiation; estimatable from LAI {0,1}\n",
    "          - MODIS: LAI, fpar\n",
    "          - STAND: LAI\n",
    "  estimatable via Beer-Lambert law\n",
    "  \n",
    "  $f_{aPAR}=1-e^{-kL}$ with $k$ extinction coefficient and $L$ leaf area index $\\left[\\frac{m^2}{m^2}\\right]$\n",
    "  \n",
    "\n",
    "- DOY: Day of year\n",
    "\n",
    "- GPP:\n",
    "          - MODIS: gpp_gCm2d (1km & 8-day resolution)\n"
   ]
  },
  {
   "cell_type": "code",
   "execution_count": 6,
   "metadata": {},
   "outputs": [],
   "source": [
    "#connect to database\n",
    "con = sqlite3.connect('C:/Users/Niklas/Desktop/Uni/M.Sc. Environmental Science/Thesis/physics_guided_nn/data/ProfoundData.sqlite')"
   ]
  },
  {
   "cell_type": "code",
   "execution_count": 77,
   "metadata": {},
   "outputs": [],
   "source": [
    "#select data needed\n",
    "#df = pd.read_sql_query('SELECT * FROM CLIMATE_LOCAL', con)\n",
    "#v = pd.read_sql_query('SELECT * FROM METEOROLOGICAL', con)\n",
    "et = pd.read_sql_query('SELECT * FROM ATMOSPHERICHEATCONDUCTION', con)"
   ]
  },
  {
   "cell_type": "code",
   "execution_count": 102,
   "metadata": {},
   "outputs": [
    {
     "name": "stdout",
     "output_type": "stream",
     "text": [
      "                       date  leCORR_Wm2\n",
      "333120  2000-01-01 00:00:00         NaN\n",
      "333121  2000-01-01 00:30:00         NaN\n",
      "333122  2000-01-01 01:00:00         NaN\n",
      "333123  2000-01-01 01:30:00         NaN\n",
      "333124  2000-01-01 02:00:00         NaN\n",
      "...                     ...         ...\n",
      "490938  2008-12-31 21:00:00         NaN\n",
      "490939  2008-12-31 21:30:00         NaN\n",
      "490940  2008-12-31 22:00:00         NaN\n",
      "490941  2008-12-31 22:30:00         NaN\n",
      "490942  2008-12-31 23:00:00         NaN\n",
      "\n",
      "[157823 rows x 2 columns]\n"
     ]
    },
    {
     "data": {
      "text/plain": [
       "\"\\nhyyt = hyt.set_index(pd.to_datetime(hyt['date']))\\nhyytiala = hyyt.resample('D').mean()\\nhyytiala['ET'] = (hyytiala.leCORR_Wm2/2257)*0.001*86400\\nplt.plot(hyytiala.index, hyytiala.ET)\\n\""
      ]
     },
     "execution_count": 102,
     "metadata": {},
     "output_type": "execute_result"
    }
   ],
   "source": [
    "%matplotlib qt\n",
    "#v.loc[v['site_id']==14, ['timestampStart']]\n",
    "#et.info()\n",
    "#et['date']\n",
    "hyt = et.loc[et['site_id']==3, ['date','leCORR_Wm2']]\n",
    "print(hyt)\n",
    "'''\n",
    "hyyt = hyt.set_index(pd.to_datetime(hyt['date']))\n",
    "hyytiala = hyyt.resample('D').mean()\n",
    "hyytiala['ET'] = (hyytiala.leCORR_Wm2/2257)*0.001*86400\n",
    "plt.plot(hyytiala.index, hyytiala.ET)\n",
    "'''"
   ]
  },
  {
   "cell_type": "code",
   "execution_count": 24,
   "metadata": {},
   "outputs": [
    {
     "name": "stdout",
     "output_type": "stream",
     "text": [
      "VERSION_master\n",
      "SITESID_master\n",
      "SITES_master\n",
      "SITEDESCRIPTION_master\n",
      "METADATA_SITEDESCRIPTION_master\n",
      "SOIL_master\n",
      "METADATA_SOIL_master\n",
      "METADATA_SOIL_SITES_master\n",
      "PLOTSIZE_master\n",
      "METADATA_PLOTSIZE_master\n",
      "METADATA_PLOTSIZE_SITES_master\n",
      "TREESPECIES_master\n",
      "TREE_master\n",
      "METADATA_TREE_master\n",
      "METADATA_TREE_SITES_master\n",
      "METADATA_TREESPECIES_master\n",
      "STAND_master\n",
      "METADATA_STAND_master\n",
      "METADATA_STAND_SITES_master\n",
      "CLIMATEFLUXNET_master\n",
      "METADATA_CLIMATEFLUXNET_master\n",
      "METADATA_CLIMATEFLUXNET_SITES_master\n",
      "CLIMATE_LOCAL_master\n",
      "METADATA_CLIMATE_LOCAL_master\n",
      "METADATA_CLIMATE_LOCAL_SITES_master\n",
      "CO2_ISIMIP_master\n",
      "METADATA_CO2_ISIMIP_master\n",
      "NDEPOSITION_EMEP_master\n",
      "METADATA_NDEPOSITION_EMEP_master\n",
      "NDEPOSITION_ISIMIP2B_master\n",
      "METADATA_NDEPOSITION_ISIMIP2B_master\n",
      "MODIS_MOD09A1_master\n",
      "MODIS_MOD11A2_master\n",
      "MODIS_MOD13Q1_master\n",
      "MODIS_MOD15A2_master\n",
      "MODIS_MOD17A2_master\n",
      "METADATA_MODIS_MOD09A1_master\n",
      "METADATA_MODIS_MOD11A2_master\n",
      "METADATA_MODIS_MOD13Q1_master\n",
      "METADATA_MODIS_MOD15A2_master\n",
      "METADATA_MODIS_MOD17A2_master\n",
      "FLUXNET_master\n",
      "METADATA_FLUXNET_master\n",
      "CLIMATE_ISIMIP2A_master\n",
      "METADATA_CLIMATE_ISIMIP2A_master\n",
      "CLIMATE_ISIMIP2B_master\n",
      "CLIMATE_ISIMIP2BLBC_master\n",
      "CLIMATE_ISIMIPFT_master\n",
      "METADATA_CLIMATE_ISIMIPFT_master\n",
      "SOURCE_master\n",
      "SOURCE_SITES_master\n",
      "POLICY_master\n",
      "POLICY_SITES_master\n",
      "METADATA_CLIMATE_ISIMIP2B_master\n",
      "METADATA_CLIMATE_ISIMIP2BLBC_master\n",
      "METADATA_SITESID_master\n",
      "METADATA_SITES_master\n"
     ]
    }
   ],
   "source": [
    "res = con.execute(\"SELECT name FROM sqlite_master WHERE type='table';\")\n",
    "for name in res:\n",
    "    print(name[0])"
   ]
  },
  {
   "cell_type": "code",
   "execution_count": 20,
   "metadata": {},
   "outputs": [
    {
     "data": {
      "text/plain": [
       "[<matplotlib.lines.Line2D at 0x22ab0656708>]"
      ]
     },
     "execution_count": 20,
     "metadata": {},
     "output_type": "execute_result"
    },
    {
     "data": {
      "image/png": "[encoded data removed]",
      "text/plain": [
       "<Figure size 432x288 with 1 Axes>"
      ]
     },
     "metadata": {
      "needs_background": "light"
     },
     "output_type": "display_data"
    }
   ],
   "source": [
    "#type(df)\n",
    "# select climate site hyytiala\n",
    "#df.info()\n",
    "\n",
    "plt.plot(pd.to_datetime(df.loc[df['site_id']==14, 'date']), df.loc[df['site_id']==14, 'relhum_percent'])\n",
    "#plt.plot(df.loc[df['site_id']==3, 'rad_Jcm2day'])\n",
    "#plt.plot(df.loc[df['site_id']==5, 'rad_Jcm2day'])\n",
    "#plt.plot(df.loc[df['site_id']==14, 'rad_Jcm2day'])"
   ]
  },
  {
   "cell_type": "code",
   "execution_count": 76,
   "metadata": {},
   "outputs": [
    {
     "data": {
      "text/plain": [
       "[<matplotlib.lines.Line2D at 0x22aa141e908>]"
      ]
     },
     "execution_count": 76,
     "metadata": {},
     "output_type": "execute_result"
    },
    {
     "data": {
      "image/png": "[encoded data removed]",
      "text/plain": [
       "<Figure size 432x288 with 1 Axes>"
      ]
     },
     "metadata": {
      "needs_background": "light"
     },
     "output_type": "display_data"
    }
   ],
   "source": [
    "# calc vpd\n",
    "d = df.loc[df['site_id']==14]\n",
    "relhum = d['relhum_percent']\n",
    "tmax = d['tmax_degC']\n",
    "tmin = d['tmin_degC']\n",
    "def es(t):\n",
    "    return 0.6108*e**((17.27*t)/(t+237.3))\n",
    "def ee(tmin, tmax, f):\n",
    "    return (f(tmax)- f(tmin))/2\n",
    "\n",
    "vpd = -(relhum/100)*ee(tmin, tmax, es) + 1\n",
    "\n",
    "#testv = v.set_index(pd.to_datetime(v['date']))\n",
    "#v = testv.resample('D').mean()\n",
    "\n",
    "plt.plot(v['vpdFMDS_hPa'].values/10)\n",
    "plt.plot(vpd)\n",
    "#plt.plot(v['vpdFMDS_hPa'].values)\n"
   ]
  },
  {
   "cell_type": "markdown",
   "metadata": {},
   "source": [
    "\n",
    "## choose sites\n",
    "### condition: in same ecosystem, e.g. conifer\n",
    "\n",
    "- F.5.2 -> species-rich, eutrophic and eu-mesotrophic beech and mixed beech forests\n",
    "- F.5.1 -> species-poor, oligotrophic to mesotrophic beech and mixed beech\n",
    "\n",
    "- D.1.3 -> southern boreal coniferous forests: spruce\n",
    "- F.1 -> species-poor acidophilous, oligo- to mesotraphent oak and mixed oak frests\n",
    "\n",
    "### same ecosystem:\n",
    "##### mixed conifers & deciduous\n",
    "- 3: fagus sylvatica (deciduous), Abies alba (conifer), Picea abies (conifer)\n",
    "- 5: fagus sylvatica, Abies alba, Geranium nodosum(decid), Trochiscanthes nodiflora (decid)\n",
    "- 12: Picea abies, dwarf shrubs and herbaceous plants\n",
    "\n",
    "##### others\n",
    "- 14: Quercus robur, Pinus pinaster (c)\n",
    "- 21: Fagus sylvatica, Fraxinus excelsior (decidous only)\n",
    "\n",
    "\n",
    "\n"
   ]
  },
  {
   "cell_type": "code",
   "execution_count": 31,
   "metadata": {},
   "outputs": [
    {
     "data": {
      "text/html": [
       "<div>\n",
       "<style scoped>\n",
       "    .dataframe tbody tr th:only-of-type {\n",
       "        vertical-align: middle;\n",
       "    }\n",
       "\n",
       "    .dataframe tbody tr th {\n",
       "        vertical-align: top;\n",
       "    }\n",
       "\n",
       "    .dataframe thead th {\n",
       "        text-align: right;\n",
       "    }\n",
       "</style>\n",
       "<table border=\"1\" class=\"dataframe\">\n",
       "  <thead>\n",
       "    <tr style=\"text-align: right;\">\n",
       "      <th></th>\n",
       "      <th>site_id</th>\n",
       "      <th>site</th>\n",
       "      <th>lat</th>\n",
       "      <th>lon</th>\n",
       "      <th>epsg</th>\n",
       "      <th>country</th>\n",
       "      <th>aspect_deg</th>\n",
       "      <th>elevation_masl</th>\n",
       "      <th>slope_percent</th>\n",
       "      <th>natVegetation_code1</th>\n",
       "      <th>natVegetation_code2</th>\n",
       "      <th>natVegetation_description</th>\n",
       "    </tr>\n",
       "  </thead>\n",
       "  <tbody>\n",
       "    <tr>\n",
       "      <th>0</th>\n",
       "      <td>3</td>\n",
       "      <td>bily_kriz</td>\n",
       "      <td>49.300000</td>\n",
       "      <td>18.320000</td>\n",
       "      <td>4326.0</td>\n",
       "      <td>Czech Republic</td>\n",
       "      <td>180.0</td>\n",
       "      <td>875.0</td>\n",
       "      <td>12.5</td>\n",
       "      <td>F.5.2.3</td>\n",
       "      <td>F134</td>\n",
       "      <td>Hercynian (spruce-)fir-beech forests (Fagus sy...</td>\n",
       "    </tr>\n",
       "    <tr>\n",
       "      <th>1</th>\n",
       "      <td>5</td>\n",
       "      <td>collelongo</td>\n",
       "      <td>41.849336</td>\n",
       "      <td>13.588217</td>\n",
       "      <td>4326.0</td>\n",
       "      <td>Italy</td>\n",
       "      <td>252.0</td>\n",
       "      <td>1560.0</td>\n",
       "      <td>10.0</td>\n",
       "      <td>F.5.2.3</td>\n",
       "      <td>F146</td>\n",
       "      <td>North and middle Apennine beach forests (Fagus...</td>\n",
       "    </tr>\n",
       "    <tr>\n",
       "      <th>2</th>\n",
       "      <td>12</td>\n",
       "      <td>hyytiala</td>\n",
       "      <td>61.847420</td>\n",
       "      <td>24.294770</td>\n",
       "      <td>4326.0</td>\n",
       "      <td>Finland</td>\n",
       "      <td>180.0</td>\n",
       "      <td>185.0</td>\n",
       "      <td>2.0</td>\n",
       "      <td>D.1.3</td>\n",
       "      <td>D7</td>\n",
       "      <td>Fennoscandianmoss-rich spruce forests (Picea a...</td>\n",
       "    </tr>\n",
       "    <tr>\n",
       "      <th>3</th>\n",
       "      <td>13</td>\n",
       "      <td>kroof</td>\n",
       "      <td>48.250000</td>\n",
       "      <td>11.400000</td>\n",
       "      <td>4326.0</td>\n",
       "      <td>Germany</td>\n",
       "      <td>1.8</td>\n",
       "      <td>502.0</td>\n",
       "      <td>2.1</td>\n",
       "      <td>F.5.1.2</td>\n",
       "      <td>F85</td>\n",
       "      <td>Central European Luzula luzuloides-(sessile oa...</td>\n",
       "    </tr>\n",
       "    <tr>\n",
       "      <th>4</th>\n",
       "      <td>14</td>\n",
       "      <td>le_bray</td>\n",
       "      <td>44.717110</td>\n",
       "      <td>-0.769300</td>\n",
       "      <td>4326.0</td>\n",
       "      <td>France</td>\n",
       "      <td>NaN</td>\n",
       "      <td>61.0</td>\n",
       "      <td>0.0</td>\n",
       "      <td>F.1.1</td>\n",
       "      <td>F7</td>\n",
       "      <td>Aquitanian pedunculate oak forests (Quercus ro...</td>\n",
       "    </tr>\n",
       "    <tr>\n",
       "      <th>5</th>\n",
       "      <td>16</td>\n",
       "      <td>peitz</td>\n",
       "      <td>51.916600</td>\n",
       "      <td>14.350000</td>\n",
       "      <td>4326.0</td>\n",
       "      <td>Germany</td>\n",
       "      <td>NaN</td>\n",
       "      <td>50.0</td>\n",
       "      <td>0.0</td>\n",
       "      <td>D.5.3.1</td>\n",
       "      <td>D54</td>\n",
       "      <td>SouthScandinavian-east Central European dwarf ...</td>\n",
       "    </tr>\n",
       "    <tr>\n",
       "      <th>6</th>\n",
       "      <td>20</td>\n",
       "      <td>solling_beech</td>\n",
       "      <td>51.770000</td>\n",
       "      <td>9.570000</td>\n",
       "      <td>4326.0</td>\n",
       "      <td>Germany</td>\n",
       "      <td>225.0</td>\n",
       "      <td>504.0</td>\n",
       "      <td>1.0</td>\n",
       "      <td>F.5.1.2</td>\n",
       "      <td>F83</td>\n",
       "      <td>(Atlantic-)subatlantic Luzula luzuloides-(sess...</td>\n",
       "    </tr>\n",
       "    <tr>\n",
       "      <th>7</th>\n",
       "      <td>21</td>\n",
       "      <td>soro</td>\n",
       "      <td>55.485844</td>\n",
       "      <td>11.644616</td>\n",
       "      <td>4326.0</td>\n",
       "      <td>Denmark</td>\n",
       "      <td>NaN</td>\n",
       "      <td>40.0</td>\n",
       "      <td>0.0</td>\n",
       "      <td>F.5.2.1</td>\n",
       "      <td>F108</td>\n",
       "      <td>South Scandinavian-north Central European Gali...</td>\n",
       "    </tr>\n",
       "    <tr>\n",
       "      <th>8</th>\n",
       "      <td>25</td>\n",
       "      <td>solling_spruce</td>\n",
       "      <td>51.764700</td>\n",
       "      <td>9.579700</td>\n",
       "      <td>4326.0</td>\n",
       "      <td>Germany</td>\n",
       "      <td>90.0</td>\n",
       "      <td>508.0</td>\n",
       "      <td>1.0</td>\n",
       "      <td>F.5.1.2</td>\n",
       "      <td>F83</td>\n",
       "      <td>(Atlantic-)subatlantic Luzula luzuloides-(sess...</td>\n",
       "    </tr>\n",
       "    <tr>\n",
       "      <th>9</th>\n",
       "      <td>99</td>\n",
       "      <td>global</td>\n",
       "      <td>0.000000</td>\n",
       "      <td>0.000000</td>\n",
       "      <td>NaN</td>\n",
       "      <td>World</td>\n",
       "      <td>NaN</td>\n",
       "      <td>508.0</td>\n",
       "      <td>NaN</td>\n",
       "      <td>none</td>\n",
       "      <td>none</td>\n",
       "      <td>none</td>\n",
       "    </tr>\n",
       "  </tbody>\n",
       "</table>\n",
       "</div>"
      ],
      "text/plain": [
       "   site_id            site        lat        lon    epsg         country  \\\n",
       "0        3       bily_kriz  49.300000  18.320000  4326.0  Czech Republic   \n",
       "1        5      collelongo  41.849336  13.588217  4326.0           Italy   \n",
       "2       12        hyytiala  61.847420  24.294770  4326.0         Finland   \n",
       "3       13           kroof  48.250000  11.400000  4326.0         Germany   \n",
       "4       14         le_bray  44.717110  -0.769300  4326.0          France   \n",
       "5       16           peitz  51.916600  14.350000  4326.0         Germany   \n",
       "6       20   solling_beech  51.770000   9.570000  4326.0         Germany   \n",
       "7       21            soro  55.485844  11.644616  4326.0         Denmark   \n",
       "8       25  solling_spruce  51.764700   9.579700  4326.0         Germany   \n",
       "9       99          global   0.000000   0.000000     NaN           World   \n",
       "\n",
       "   aspect_deg  elevation_masl  slope_percent natVegetation_code1  \\\n",
       "0       180.0           875.0           12.5             F.5.2.3   \n",
       "1       252.0          1560.0           10.0             F.5.2.3   \n",
       "2       180.0           185.0            2.0               D.1.3   \n",
       "3         1.8           502.0            2.1             F.5.1.2   \n",
       "4         NaN            61.0            0.0               F.1.1   \n",
       "5         NaN            50.0            0.0             D.5.3.1   \n",
       "6       225.0           504.0            1.0             F.5.1.2   \n",
       "7         NaN            40.0            0.0             F.5.2.1   \n",
       "8        90.0           508.0            1.0             F.5.1.2   \n",
       "9         NaN           508.0            NaN                none   \n",
       "\n",
       "  natVegetation_code2                          natVegetation_description  \n",
       "0                F134  Hercynian (spruce-)fir-beech forests (Fagus sy...  \n",
       "1                F146  North and middle Apennine beach forests (Fagus...  \n",
       "2                  D7  Fennoscandianmoss-rich spruce forests (Picea a...  \n",
       "3                 F85  Central European Luzula luzuloides-(sessile oa...  \n",
       "4                  F7  Aquitanian pedunculate oak forests (Quercus ro...  \n",
       "5                 D54  SouthScandinavian-east Central European dwarf ...  \n",
       "6                 F83  (Atlantic-)subatlantic Luzula luzuloides-(sess...  \n",
       "7                F108  South Scandinavian-north Central European Gali...  \n",
       "8                 F83  (Atlantic-)subatlantic Luzula luzuloides-(sess...  \n",
       "9                none                                               none  "
      ]
     },
     "execution_count": 31,
     "metadata": {},
     "output_type": "execute_result"
    }
   ],
   "source": [
    "#print(df[df.loc[df['site']=='soro']['natVegetation_description']])\n",
    "df"
   ]
  },
  {
   "cell_type": "markdown",
   "metadata": {},
   "source": [
    " # Fix fAPAR"
   ]
  },
  {
   "cell_type": "code",
   "execution_count": 231,
   "metadata": {},
   "outputs": [],
   "source": [
    "datafpar = pd.read_sql_query('SELECT * FROM MODIS', con)"
   ]
  },
  {
   "cell_type": "code",
   "execution_count": 232,
   "metadata": {},
   "outputs": [],
   "source": [
    "data = datafpar.loc[datafpar['site_id'] == 12, ['date', 'fpar_percent']]\n",
    "data = data.set_index(pd.to_datetime(data['date']))\n",
    "data = data.drop(['date'], axis=1)\n",
    "data['fapar'] = data['fpar_percent'].copy()\n",
    "start = data.index[0]\n",
    "end = data.index[-1]\n"
   ]
  },
  {
   "cell_type": "code",
   "execution_count": 233,
   "metadata": {},
   "outputs": [],
   "source": [
    "data = data[data.index.isin(pd.date_range(start, end))]['fapar']\n",
    "idx = data[np.isnan(data)].index"
   ]
  },
  {
   "cell_type": "code",
   "execution_count": 234,
   "metadata": {},
   "outputs": [
    {
     "name": "stdout",
     "output_type": "stream",
     "text": [
      "0.0\n",
      "0.48\n",
      "0.15000000000000002\n",
      "0.05500000000000001\n",
      "0.34\n",
      "0.09000000000000001\n",
      "0.12\n",
      "0.01\n",
      "0.14500000000000002\n",
      "0.045\n",
      "0.16999999999999998\n",
      "0.005\n",
      "0.215\n",
      "0.049999999999999996\n",
      "0.84\n",
      "0.84\n",
      "0.79\n",
      "0.11\n",
      "0.42\n"
     ]
    }
   ],
   "source": [
    "# mean bevor and after\n",
    "for i in idx:\n",
    "    after = data.shift(periods=-1)\n",
    "    bevor = data.shift(periods=1)\n",
    "    if np.isfinite(bevor[i]) and np.isfinite(after[i]):\n",
    "        data[i] = np.nanmean([bevor[i], after[i]])\n",
    "    elif np.isfinite(bevor[i]):\n",
    "        data[i] = bevor[i]\n",
    "    elif np.isfinite(after[i]):\n",
    "        data[i] = after[i]\n",
    "    print(data[i])"
   ]
  },
  {
   "cell_type": "code",
   "execution_count": 238,
   "metadata": {},
   "outputs": [
    {
     "data": {
      "text/html": [
       "<div>\n",
       "<style scoped>\n",
       "    .dataframe tbody tr th:only-of-type {\n",
       "        vertical-align: middle;\n",
       "    }\n",
       "\n",
       "    .dataframe tbody tr th {\n",
       "        vertical-align: top;\n",
       "    }\n",
       "\n",
       "    .dataframe thead th {\n",
       "        text-align: right;\n",
       "    }\n",
       "</style>\n",
       "<table border=\"1\" class=\"dataframe\">\n",
       "  <thead>\n",
       "    <tr style=\"text-align: right;\">\n",
       "      <th></th>\n",
       "      <th>fapar</th>\n",
       "    </tr>\n",
       "    <tr>\n",
       "      <th>date</th>\n",
       "      <th></th>\n",
       "    </tr>\n",
       "  </thead>\n",
       "  <tbody>\n",
       "    <tr>\n",
       "      <th>2000-03-05</th>\n",
       "      <td>0.11</td>\n",
       "    </tr>\n",
       "    <tr>\n",
       "      <th>2000-03-06</th>\n",
       "      <td>NaN</td>\n",
       "    </tr>\n",
       "    <tr>\n",
       "      <th>2000-03-07</th>\n",
       "      <td>NaN</td>\n",
       "    </tr>\n",
       "    <tr>\n",
       "      <th>2000-03-08</th>\n",
       "      <td>NaN</td>\n",
       "    </tr>\n",
       "    <tr>\n",
       "      <th>2000-03-09</th>\n",
       "      <td>NaN</td>\n",
       "    </tr>\n",
       "    <tr>\n",
       "      <th>...</th>\n",
       "      <td>...</td>\n",
       "    </tr>\n",
       "    <tr>\n",
       "      <th>2014-12-15</th>\n",
       "      <td>NaN</td>\n",
       "    </tr>\n",
       "    <tr>\n",
       "      <th>2014-12-16</th>\n",
       "      <td>NaN</td>\n",
       "    </tr>\n",
       "    <tr>\n",
       "      <th>2014-12-17</th>\n",
       "      <td>NaN</td>\n",
       "    </tr>\n",
       "    <tr>\n",
       "      <th>2014-12-18</th>\n",
       "      <td>NaN</td>\n",
       "    </tr>\n",
       "    <tr>\n",
       "      <th>2014-12-19</th>\n",
       "      <td>0.42</td>\n",
       "    </tr>\n",
       "  </tbody>\n",
       "</table>\n",
       "<p>5403 rows × 1 columns</p>\n",
       "</div>"
      ],
      "text/plain": [
       "            fapar\n",
       "date             \n",
       "2000-03-05   0.11\n",
       "2000-03-06    NaN\n",
       "2000-03-07    NaN\n",
       "2000-03-08    NaN\n",
       "2000-03-09    NaN\n",
       "...           ...\n",
       "2014-12-15    NaN\n",
       "2014-12-16    NaN\n",
       "2014-12-17    NaN\n",
       "2014-12-18    NaN\n",
       "2014-12-19   0.42\n",
       "\n",
       "[5403 rows x 1 columns]"
      ]
     },
     "execution_count": 238,
     "metadata": {},
     "output_type": "execute_result"
    }
   ],
   "source": [
    "newdata = pd.DataFrame(data = {'date': pd.date_range(start, end)})\n",
    "nd = newdata.set_index(pd.to_datetime(newdata['date'])).drop(['date'], axis=1)\n",
    "fapar = nd.join(data)\n",
    "fapar"
   ]
  },
  {
   "cell_type": "code",
   "execution_count": 239,
   "metadata": {},
   "outputs": [],
   "source": [
    "# fill gaps\n",
    "nans = np.where(np.isnan(fapar.fapar))[0]\n",
    "for i in nans:\n",
    "    fapar.iloc[i]['fapar'] = fapar.iloc[i-1]['fapar']\n",
    "    \n",
    "    \n"
   ]
  },
  {
   "cell_type": "code",
   "execution_count": 242,
   "metadata": {},
   "outputs": [
    {
     "data": {
      "text/plain": [
       "date\n",
       "2000-03-05    0.11\n",
       "2000-03-06    0.11\n",
       "2000-03-07    0.11\n",
       "2000-03-08    0.11\n",
       "2000-03-09    0.11\n",
       "              ... \n",
       "2014-12-15    0.42\n",
       "2014-12-16    0.42\n",
       "2014-12-17    0.42\n",
       "2014-12-18    0.42\n",
       "2014-12-19    0.42\n",
       "Name: fapar, Length: 5403, dtype: float64"
      ]
     },
     "execution_count": 242,
     "metadata": {},
     "output_type": "execute_result"
    }
   ],
   "source": [
    "fapar['fapar']\n"
   ]
  }
 ],
 "metadata": {
  "kernelspec": {
   "display_name": "Python 3",
   "language": "python",
   "name": "python3"
  },
  "language_info": {
   "codemirror_mode": {
    "name": "ipython",
    "version": 3
   },
   "file_extension": ".py",
   "mimetype": "text/x-python",
   "name": "python",
   "nbconvert_exporter": "python",
   "pygments_lexer": "ipython3",
   "version": "3.7.6"
  }
 },
 "nbformat": 4,
 "nbformat_minor": 4
}
